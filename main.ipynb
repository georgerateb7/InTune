{
 "cells": [
  {
   "cell_type": "code",
   "execution_count": 1,
   "metadata": {
    "collapsed": true
   },
   "outputs": [],
   "source": [
    "import json\n",
    "\n",
    "import pydub\n",
    "import requests\n",
    "import spotipy\n",
    "from dotenv import load_dotenv\n",
    "from pathlib import Path\n",
    "from pydub import AudioSegment\n",
    "from spotipy.oauth2 import SpotifyOAuth, SpotifyClientCredentials"
   ]
  },
  {
   "cell_type": "code",
   "execution_count": 3,
   "metadata": {
    "pycharm": {
     "name": "#%%\n"
    }
   },
   "outputs": [],
   "source": [
    "load_dotenv()\n",
    "\n",
    "scope = \"user-top-read\"\n",
    "sp = spotipy.Spotify(auth_manager=SpotifyOAuth(scope=scope))\n",
    "top_artists = sp.current_user_top_artists()"
   ]
  },
  {
   "cell_type": "code",
   "execution_count": 4,
   "metadata": {
    "pycharm": {
     "name": "#%%\n"
    }
   },
   "outputs": [
    {
     "name": "stdout",
     "output_type": "stream",
     "text": [
      "----- Kacey Musgraves -----\n",
      "   star-crossed\n",
      "   The Kacey Musgraves Christmas Show\n",
      "   Golden Hour\n",
      "   A Very Kacey Christmas\n",
      "   Pageant Material\n",
      "   Pageant Material\n",
      "   Same Trailer Different Park\n",
      "   Fix You\n",
      "   Easy (with Kacey Musgraves feat. Mark Ronson)\n",
      "   Glittery (feat. Troye Sivan) [From The Kacey Musgraves Christmas Show Soundtrack]\n",
      "   Oh, What a World 2.0 (Earth Day Edition)\n",
      "   pictures (feat. Kacey Musgraves)\n",
      "   Rainbow\n",
      "   Kansas City Star\n",
      "   Kansas City Star\n",
      "   High Horse Remix\n",
      "   Acoustic Remixed\n",
      "   Butterflies\n",
      "   Space Cowboy\n",
      "   Spotify Sessions (Live From Spotify House '16)\n",
      "----- Billie Eilish -----\n",
      "   Happier Than Ever\n",
      "   Happier Than Ever\n",
      "   WHEN WE ALL FALL ASLEEP, WHERE DO WE GO?\n",
      "   Happier Than Ever (Edit)\n",
      "   Happier Than Ever (Edit)\n",
      "   ilomilo (Live From The Film - Billie Eilish: The World’s A Little Blurry)\n",
      "   Lo Vas A Olvidar (with ROSALÍA)\n",
      "   Lo Vas A Olvidar (with ROSALÍA)\n",
      "   Therefore I Am\n",
      "   my future\n",
      "   No Time To Die\n",
      "   everything i wanted\n",
      "   bad guy (with Justin Bieber)\n",
      "   WHEN I WAS OLDER (Music Inspired By The Film ROMA)\n",
      "   come out and play\n",
      "   lovely (with Khalid)\n",
      "   bitches broken hearts\n",
      "   MyBoi (TroyBoi Remix)\n",
      "   COPYCAT (Sofi Tukker Remix)\n",
      "   dont smile at me\n",
      "----- renforshort -----\n",
      "   CLOUDS (Music From The Disney+ Original Movie)\n",
      "   moshpit\n",
      "   Waiting Game\n",
      "   Waiting Game\n",
      "   off saint dominique EP\n",
      "   off saint dominique EP\n",
      "   fuck, i luv my friends (with Curtis Waters) [reimagined]\n",
      "   fuck, i luv my friends (with Curtis Waters) [reimagined]\n",
      "   feel good inc. (feat. Mateus Asato)\n",
      "   feel good inc. (feat. Mateus Asato)\n",
      "   nostalgic (luvsick)\n",
      "   nostalgic (luvsick)\n",
      "   fuck, i luv my friends (stripped)\n",
      "   fuck, i luv my friends (stripped)\n",
      "   fuck, i luv my friends\n",
      "   fuck, i luv my friends\n",
      "   i drive me mad (Mike Shinoda Mix)\n",
      "   teenage angst EP\n",
      "   teenage angst EP\n",
      "   mind games\n",
      "----- Maggie Lindemann -----\n",
      "   PARANOIA\n",
      "   PARANOIA\n",
      "   debbie downer\n",
      "   debbie downer\n",
      "   she knows it\n",
      "   OHMAMI (With Maggie Lindemann)\n",
      "   Loner\n",
      "   Scissorhands\n",
      "   Scissorhands\n",
      "   GASLIGHT!\n",
      "   GASLIGHT!\n",
      "   Knife Under My Pillow\n",
      "   Pretty Girl (Gabry Ponte x LUM!X x Paul Gannon Remix)\n",
      "   Moon & Stars (feat. Maggie Lindemann)\n",
      "   Friends Go (feat. Travis Barker)\n",
      "   Friends Go\n",
      "   Would I\n",
      "   Human\n",
      "   Obsessed\n",
      "   Personal\n",
      "----- Transviolet -----\n",
      "   Drugs in California\n",
      "   Makes Me Happy\n",
      "   Everything Everything\n",
      "   Born to Rule\n",
      "   Valley\n",
      "   Valley\n",
      "   Happiness and Pleasure\n",
      "   The Man Who Sold the World\n",
      "   Fever\n",
      "   Blue Flowers\n",
      "   Clean Laundry\n",
      "   Drugs in California (GOLDHOUSE Remix)\n",
      "   Drown Me (Tiny Room Sessions)\n",
      "   Drugs in California\n",
      "   Girls Your Age (Tiny Room Sessions)\n",
      "   Tropics\n",
      "   Undo (Tiny Room Sessions)\n",
      "   The Hamptons (Tiny Room Sessions)\n",
      "   Aliens (Chill Mix)\n",
      "   Tendencies\n",
      "----- Lennon Stella -----\n",
      "   Three. Two. One.\n",
      "   Thank You\n",
      "   Hey Beautiful (from How I Met Your Father)\n",
      "   Bubble\n",
      "   Fancy\n",
      "   Light Year (feat. Lennon Stella)\n",
      "   Bad (Acoustic)\n",
      "   Spotify Singles\n",
      "   Three. Two. One. (Alternate Versions)\n",
      "   Summer Feelings (feat. Charlie Puth) [Acoustic]\n",
      "   Summer Feelings (feat. Charlie Puth) [Morgan Page Remix]\n",
      "   Summer Feelings (feat. Charlie Puth) [Jengi Remix]\n",
      "   Summer Feelings (feat. Charlie Puth)\n",
      "   Golf On TV feat. JP Saxe\n",
      "   Workin' On It (feat. Lennon Stella & Sasha Alex Sloan)\n",
      "   Kissing Other People (Acoustic)\n",
      "   Kissing Other People (Menrva Remix)\n",
      "   Kissing Other People (R3HAB Remix)\n",
      "   BITCH (takes one to know one)\n",
      "   La Di Da (Aaron Redding Remix)\n",
      "----- Blu DeTiger -----\n",
      "   How Did We Get Here?\n",
      "   Blondes\n",
      "   Blondes\n",
      "   Figure It Out (filous Remix)\n",
      "   Cotton Candy Lemonade (Anna Lunoe Remix)\n",
      "   Vintage (Flight Facilities Remix)\n",
      "   Vintage\n",
      "   Cotton Candy Lemonade\n",
      "   Figure It Out\n",
      "   Tangerine\n",
      "   Mad Love (The Knocks Club Edit)\n",
      "   Mad Love\n",
      "   In My Head Remixes\n",
      "   In My Head (Treasure Fingers Remix)\n",
      "   In My Head (Just Kiddin Remix)\n",
      "   In My Head\n",
      "   a study of the human experience volume one\n",
      "   he's all that\n",
      "   He's All That (Music From The Netflix Film)\n",
      "   Don't Be Afraid (Remixes)\n",
      "----- Drake -----\n",
      "   Certified Lover Boy\n",
      "   Certified Lover Boy\n",
      "   Dark Lane Demo Tapes\n",
      "   Dark Lane Demo Tapes\n",
      "   Care Package\n",
      "   Care Package\n",
      "   So Far Gone\n",
      "   Scorpion\n",
      "   Scorpion\n",
      "   More Life\n",
      "   More Life\n",
      "   Views\n",
      "   Views\n",
      "   What A Time To Be Alive\n",
      "   What A Time To Be Alive\n",
      "   If You're Reading This It's Too Late\n",
      "   If You're Reading This It's Too Late\n",
      "   Nothing Was The Same (Deluxe)\n",
      "   Nothing Was The Same (Deluxe)\n",
      "   Nothing Was The Same (Deluxe)\n",
      "----- Ariana Grande -----\n",
      "   Positions (Deluxe)\n",
      "   Positions (Deluxe)\n",
      "   Positions\n",
      "   Positions\n",
      "   k bye for now (swt live)\n",
      "   thank u, next\n",
      "   Sweetener\n",
      "   Sweetener\n",
      "   thank u, next\n",
      "   Christmas & Chill (Japan Version)\n",
      "   Dangerous Woman\n",
      "   Dangerous Woman\n",
      "   Dangerous Woman\n",
      "   Dangerous Woman (Edited)\n",
      "   Dangerous Woman\n",
      "   Dangerous Woman\n",
      "   Dangerous Woman\n",
      "   My Everything (Italian Edition)\n",
      "   The Remix\n",
      "   My Everything (Deluxe)\n",
      "----- Charlotte Lawrence -----\n",
      "   Charlotte (Acoustic)\n",
      "   Charlotte\n",
      "   You\n",
      "   Talk You Down (feat. SYML) [Acoustic]\n",
      "   Talk You Down (Remixes)\n",
      "   Talk You Down\n",
      "   THE END\n",
      "   Slow Motion (Johan Lenox Version)\n",
      "   Slow Motion\n",
      "   Lavender’s Blue (from “At home with the kids”)\n",
      "   Joke's On You (Acoustic)\n",
      "   Joke's On You\n",
      "   God Must Be Doing Cocaine\n",
      "   Navy Blue\n",
      "   Why Do You Love Me (Hippie Sabotage Remix)\n",
      "   Why Do You Love Me (Klingande Remix)\n",
      "   Why Do You Love Me (Riton Remix)\n",
      "   Why Do You Love Me (Acoustic)\n",
      "   Why Do You Love Me\n",
      "   Stole Your Car\n",
      "----- Fiji Blue -----\n",
      "   Goodbye\n",
      "   Flower in the Dark\n",
      "   Another Day\n",
      "   Only When I Look into Your Eyes\n",
      "   Reasons You Should Care\n",
      "   Wait!\n",
      "   It Takes Two\n",
      "   Affection\n",
      "   Waves\n",
      "   I Should've Told You\n",
      "   Butterflies\n",
      "   Home\n",
      "   Day by Day\n",
      "   Numb\n",
      "   Space Makes Me Sad\n",
      "   Beachbar - Strandmusik\n",
      "   Safe Space\n",
      "   Chill Indie Pop\n",
      "   Mercury is in Retrograde\n",
      "   Anti-Valentine's Day\n",
      "----- Gracie Abrams -----\n",
      "   This Is What It Feels Like\n",
      "   This Is What It Feels Like\n",
      "   Mess It Up\n",
      "   Unlearn (with Gracie Abrams) [Main + Acoustic]\n",
      "   Unlearn (with Gracie Abrams)\n",
      "   Unlearn (with Gracie Abrams)\n",
      "   Brush Fire\n",
      "   minor\n",
      "   21\n",
      "   Stay\n",
      "   Mean It\n",
      "   2022 欧美网络热歌\n",
      "   How Do I Tell You I Need You?\n",
      "   Cozy Coffee Moments\n",
      "   High Energy Indie\n",
      "   Vibe City\n",
      "   Pop Internacional 2022\n",
      "   Girls Rock!\n",
      "   Drivers License\n",
      "   The Future Is Female\n",
      "----- Dua Lipa -----\n",
      "   Future Nostalgia (The Moonlight Edition)\n",
      "   Future Nostalgia (The Moonlight Edition)\n",
      "   Future Nostalgia (The Moonlight Edition)\n",
      "   Club Future Nostalgia (DJ MIX)\n",
      "   Club Future Nostalgia (DJ Mix)\n",
      "   Future Nostalgia\n",
      "   Future Nostalgia\n",
      "   Future Nostalgia\n",
      "   Dua Lipa (Complete Edition)\n",
      "   Dua Lipa\n",
      "   Dua Lipa\n",
      "   Dua Lipa (Complete Edition)\n",
      "   Dua Lipa (Deluxe)\n",
      "   Dua Lipa (Deluxe)\n",
      "   Dua Lipa (Deluxe)\n",
      "   Dua Lipa (Complete Edition)\n",
      "   Sweetest Pie\n",
      "   Sweetest Pie\n",
      "   Love Again (GARABATTO Remix)\n",
      "   Love Again (GARABATTO Remix)\n",
      "----- Delacey -----\n",
      "   Black Coffee\n",
      "   Drama Queen\n",
      "   Boy With The Blues\n",
      "   Cruel Intentions\n",
      "   Cruel Intentions\n",
      "   Cruel Intentions\n",
      "   Cruel Intentions\n",
      "   Cruel Intentions\n",
      "   No One's Gonna Ever Love U\n",
      "   Actress\n",
      "   Emily\n",
      "   The Subway Song\n",
      "   My Man (Louis Bell Remix)\n",
      "   My Man\n",
      "   Chill Cocktail\n",
      "   Electrónica 2021 Clásicos\n",
      "   Best Radio Tracks, Vol. 19\n",
      "   Walls (Acoustic)\n",
      "   Summer Dance Vibe\n",
      "   Walls\n",
      "----- LANY -----\n",
      "   gg bb xx (deluxe)\n",
      "   gg bb xx\n",
      "   mama's boy (deluxe)\n",
      "   mama's boy\n",
      "   Malibu Nights\n",
      "   LANY\n",
      "   LANY\n",
      "   Stupid Feelings (KC Lights Remix)\n",
      "   Stupid Feelings (Jonasu Remix)\n",
      "   roll over, baby\n",
      "   never mind, let's break up\n",
      "   Stupid Feelings\n",
      "   up to me / dna [demo]\n",
      "   dancing in the kitchen\n",
      "   I Quit Drinking\n",
      "   okay\n",
      "   Spotify Singles\n",
      "   Super Far\n",
      "   13\n",
      "   The Breakup\n",
      "----- Doja Cat -----\n",
      "   Planet Her (Deluxe)\n",
      "   Planet Her (Deluxe)\n",
      "   Planet Her\n",
      "   Planet Her\n",
      "   Hot Pink (Japan Version)\n",
      "   Hot Pink\n",
      "   Hot Pink\n",
      "   Amala (Deluxe Version)\n",
      "   Amala (Deluxe Version)\n",
      "   Amala\n",
      "   Amala\n",
      "   Freaky Deaky\n",
      "   Freaky Deaky\n",
      "   Celebrity Skin\n",
      "   You Right\n",
      "   Dick (feat. Doja Cat) [Sickick Remix]\n",
      "   Need to Know\n",
      "   Dick (Remixes) (feat. Doja Cat)\n",
      "   Kiss Me More (feat. SZA)\n",
      "   Kiss Me More (feat. SZA)\n",
      "----- Tate McRae -----\n",
      "   she's all i wanna be\n",
      "   feel like shit\n",
      "   she's all i wanna be (Acoustic)\n",
      "   that way (with Jeremy Zucker)\n",
      "   working\n",
      "   You (Acoustic)\n",
      "   feel like s**t\n",
      "   working (feat. Khalid) [TELYKast Summer Remix]\n",
      "   that way (Jonasu Remix)\n",
      "   You\n",
      "   You\n",
      "   TOO YOUNG TO BE SAD\n",
      "   Darkest Hour (from the Amazon Original Series PANIC)\n",
      "   slower (Moore Kismet Remix)\n",
      "   slower (NOTD Remix)\n",
      "   slower\n",
      "   rubberband\n",
      "   r u ok\n",
      "   Spotify Singles\n",
      "   lie to me\n",
      "----- Cyn -----\n",
      "   Mood Swing\n",
      "   Mood Swing\n",
      "   Kiss Me (From The Netflix Film “He’s All That”)\n",
      "   Uh Oh\n",
      "   New York\n",
      "   Mood Swing (even moodier)\n",
      "   Drinks (NERVO Extended Remix)\n",
      "   Drinks (NERVO Extended Remix)\n",
      "   The Mixed Drinks Collection\n",
      "   The Mixed Drinks Collection\n",
      "   Drinks (Stripped)\n",
      "   Drinks (Stripped)\n",
      "   Drinks (NERVO Remix)\n",
      "   Drinks (NERVO Remix)\n",
      "   Drinks\n",
      "   Drinks\n",
      "   Lonely Gun\n",
      "   Never-ending Summer\n",
      "   Holy Roller (DJDS Remix)\n",
      "   Holy Roller (Blonde Remix)\n",
      "----- Cage The Elephant -----\n",
      "   Social Cues\n",
      "   Unpeeled\n",
      "   Tell Me I'm Pretty\n",
      "   Melophobia\n",
      "   Melophobia\n",
      "   Live From The Vic In Chicago\n",
      "   Thank You Happy Birthday\n",
      "   Thank You Happy Birthday\n",
      "   Thank You Happy Birthday\n",
      "   Cage The Elephant (Expanded Edition)\n",
      "   Cage The Elephant\n",
      "   Cage The Elephant\n",
      "   The Unforgiven\n",
      "   The Unforgiven\n",
      "   Skin and Bones\n",
      "   Broken Boy (feat. Iggy Pop)\n",
      "   Goodbye / Ready To Let Go / Night Running / House of Glass\n",
      "   Night Running\n",
      "   House Of Glass\n",
      "   Ready To Let Go\n",
      "----- Nessa Barrett -----\n",
      "   dying on the inside\n",
      "   i hope ur miserable until ur dead (Live From Vevo)\n",
      "   i hope ur miserable until ur dead (Zeds Dead Remix)\n",
      "   i hope ur miserable until ur dead (Jauz Remix)\n",
      "   i hope ur miserable until ur dead (pop mix)\n",
      "   i hope ur miserable until ur dead (pop mix)\n",
      "   pretty poison\n",
      "   pretty poison\n",
      "   i hope ur miserable until ur dead\n",
      "   counting crimes\n",
      "   I'm Dead (feat. jxdn) [From the Podcast “Prom In Hell”]\n",
      "   la di die (feat. jxdn) [DVBBS Remix]\n",
      "   la di die (feat. jxdn) [Acoustic]\n",
      "   la di die (feat. jxdn)\n",
      "   if u love me\n",
      "   Pain (Kina Remix)\n",
      "   Pain (Kina Remix)\n",
      "   Pain\n",
      "   Bite Me - Just Cool Music\n",
      "   Teacher's Pet - Teen Beats\n"
     ]
    }
   ],
   "source": [
    "artists = {}\n",
    "\n",
    "for top_artist in top_artists[\"items\"]:\n",
    "    track_name_to_preview_url = {}\n",
    "    artists[top_artist[\"name\"]] = track_name_to_preview_url\n",
    "    print(f'----- {top_artist[\"name\"]} -----')\n",
    "\n",
    "    artist_albums = sp.artist_albums(top_artist[\"uri\"])\n",
    "    for artist_album in artist_albums[\"items\"]:\n",
    "        print(f'   {artist_album[\"name\"]}')\n",
    "        album_tracks = sp.album_tracks(artist_album[\"uri\"], market=\"US\")\n",
    "        for album_track in album_tracks[\"items\"]:\n",
    "            track_name, preview_url = album_track[\"name\"], album_track[\"preview_url\"]\n",
    "            if preview_url and not any(ignore_term in track_name for ignore_term in [\"Remix\", \"Mix\"]):\n",
    "                track_name_to_preview_url[track_name] = preview_url"
   ]
  },
  {
   "cell_type": "code",
   "execution_count": 5,
   "metadata": {
    "pycharm": {
     "name": "#%%\n"
    }
   },
   "outputs": [
    {
     "name": "stdout",
     "output_type": "stream",
     "text": [
      "dict_keys(['Dua Lipa', 'Doja Cat', 'Cage The Elephant', 'Nessa Barrett'])\n"
     ]
    }
   ],
   "source": [
    "target_artists = ({artist_name: track_name_to_preview_url\n",
    "                   for artist_name, track_name_to_preview_url in artists.items()\n",
    "                   if len(track_name_to_preview_url) > 40})\n",
    "print(target_artists.keys())"
   ]
  },
  {
   "cell_type": "code",
   "execution_count": 13,
   "metadata": {
    "pycharm": {
     "name": "#%%\n"
    }
   },
   "outputs": [],
   "source": [
    "target_artist = \"Doja Cat\"\n",
    "track_name_to_preview_url = target_artists[target_artist]\n",
    "\n",
    "download_dir = Path(Path.cwd(), target_artist)\n",
    "mp3_dir = Path(download_dir, \"mp3\")\n",
    "wav_dir = Path(download_dir, \"wav\")\n",
    "for dir_path in [download_dir, mp3_dir, wav_dir]:\n",
    "    if not dir_path.exists():\n",
    "        dir_path.mkdir()\n",
    "\n",
    "# for track_name, track_mp3_url in track_name_to_preview_url.items():\n",
    "#     doc = requests.get(track_mp3_url)\n",
    "#     with open(mp3_dir, 'wb') as f:\n",
    "#         f.write(doc.content)\n",
    "#\n",
    "#     sound = pydub.AudioSegment.from_mp3(mp3_dir)\n",
    "#     sound.export(wav_dir, format=\"wav\")"
   ]
  },
  {
   "cell_type": "code",
   "execution_count": 23,
   "metadata": {
    "pycharm": {
     "name": "#%%\n"
    }
   },
   "outputs": [
    {
     "name": "stdout",
     "output_type": "stream",
     "text": [
      "Starting upload for file Addiction.mp3\n"
     ]
    },
    {
     "name": "stderr",
     "output_type": "stream",
     "text": [
      "100%|██████████| 355k/355k [00:00<00:00, 392kB/s]  \n"
     ]
    },
    {
     "name": "stdout",
     "output_type": "stream",
     "text": [
      "Upload successful: Addiction.mp3 (355KB)\n",
      "Starting upload for file Ain't Shit.mp3\n"
     ]
    },
    {
     "name": "stderr",
     "output_type": "stream",
     "text": [
      "100%|██████████| 354k/354k [00:00<00:00, 388kB/s]  \n"
     ]
    },
    {
     "name": "stdout",
     "output_type": "stream",
     "text": [
      "Upload successful: Ain't Shit.mp3 (354KB)\n",
      "Starting upload for file All Nighter.mp3\n"
     ]
    },
    {
     "name": "stderr",
     "output_type": "stream",
     "text": [
      "100%|██████████| 354k/354k [00:01<00:00, 349kB/s]  \n"
     ]
    },
    {
     "name": "stdout",
     "output_type": "stream",
     "text": [
      "Upload successful: All Nighter.mp3 (354KB)\n",
      "Starting upload for file Alone.mp3\n"
     ]
    },
    {
     "name": "stderr",
     "output_type": "stream",
     "text": [
      "100%|██████████| 355k/355k [00:01<00:00, 351kB/s]  \n"
     ]
    },
    {
     "name": "stdout",
     "output_type": "stream",
     "text": [
      "Upload successful: Alone.mp3 (355KB)\n",
      "Starting upload for file Been Like This.mp3\n"
     ]
    },
    {
     "name": "stderr",
     "output_type": "stream",
     "text": [
      "100%|██████████| 354k/354k [00:01<00:00, 285kB/s]  \n"
     ]
    },
    {
     "name": "stdout",
     "output_type": "stream",
     "text": [
      "Upload successful: Been Like This.mp3 (354KB)\n",
      "Starting upload for file Better Than Me.mp3\n"
     ]
    },
    {
     "name": "stderr",
     "output_type": "stream",
     "text": [
      "100%|██████████| 355k/355k [00:00<00:00, 380kB/s]  \n"
     ]
    },
    {
     "name": "stdout",
     "output_type": "stream",
     "text": [
      "Upload successful: Better Than Me.mp3 (355KB)\n",
      "Starting upload for file Body Language.mp3\n"
     ]
    },
    {
     "name": "stderr",
     "output_type": "stream",
     "text": [
      "100%|██████████| 354k/354k [00:00<00:00, 398kB/s]  \n"
     ]
    },
    {
     "name": "stdout",
     "output_type": "stream",
     "text": [
      "Upload successful: Body Language.mp3 (354KB)\n",
      "Starting upload for file Bottom Bitch.mp3\n"
     ]
    },
    {
     "name": "stderr",
     "output_type": "stream",
     "text": [
      "100%|██████████| 355k/355k [00:01<00:00, 323kB/s]  \n"
     ]
    },
    {
     "name": "stdout",
     "output_type": "stream",
     "text": [
      "Upload successful: Bottom Bitch.mp3 (355KB)\n",
      "Starting upload for file Candy.mp3\n"
     ]
    },
    {
     "name": "stderr",
     "output_type": "stream",
     "text": [
      "100%|██████████| 353k/353k [00:01<00:00, 282kB/s] \n"
     ]
    },
    {
     "name": "stdout",
     "output_type": "stream",
     "text": [
      "Upload successful: Candy.mp3 (353KB)\n",
      "Starting upload for file Casual.mp3\n"
     ]
    },
    {
     "name": "stderr",
     "output_type": "stream",
     "text": [
      "100%|██████████| 354k/354k [00:00<00:00, 377kB/s]  \n"
     ]
    },
    {
     "name": "stdout",
     "output_type": "stream",
     "text": [
      "Upload successful: Casual.mp3 (354KB)\n",
      "Starting upload for file Celebrity Skin.mp3\n"
     ]
    },
    {
     "name": "stderr",
     "output_type": "stream",
     "text": [
      "100%|██████████| 355k/355k [00:01<00:00, 358kB/s]  \n"
     ]
    },
    {
     "name": "stdout",
     "output_type": "stream",
     "text": [
      "Upload successful: Celebrity Skin.mp3 (355KB)\n",
      "Starting upload for file Cookie Jar.mp3\n"
     ]
    },
    {
     "name": "stderr",
     "output_type": "stream",
     "text": [
      "100%|██████████| 354k/354k [00:01<00:00, 312kB/s]  \n"
     ]
    },
    {
     "name": "stdout",
     "output_type": "stream",
     "text": [
      "Upload successful: Cookie Jar.mp3 (354KB)\n",
      "Starting upload for file Cyber Sex.mp3\n"
     ]
    },
    {
     "name": "stderr",
     "output_type": "stream",
     "text": [
      "100%|██████████| 355k/355k [00:01<00:00, 348kB/s]  \n"
     ]
    },
    {
     "name": "stdout",
     "output_type": "stream",
     "text": [
      "Upload successful: Cyber Sex.mp3 (355KB)\n",
      "Starting upload for file Dick (feat. Doja Cat) - Until Dawn [Dusk Till Dawn].mp3\n"
     ]
    },
    {
     "name": "stderr",
     "output_type": "stream",
     "text": [
      "100%|██████████| 355k/355k [00:00<00:00, 426kB/s]  \n"
     ]
    },
    {
     "name": "stdout",
     "output_type": "stream",
     "text": [
      "Upload successful: Dick (feat. Doja Cat) - Until Dawn [Dusk Till Dawn].mp3 (355KB)\n",
      "Starting upload for file Down Low.mp3\n"
     ]
    },
    {
     "name": "stderr",
     "output_type": "stream",
     "text": [
      "100%|██████████| 353k/353k [00:01<00:00, 311kB/s]  \n"
     ]
    },
    {
     "name": "stdout",
     "output_type": "stream",
     "text": [
      "Upload successful: Down Low.mp3 (353KB)\n",
      "Starting upload for file Fancy.mp3\n"
     ]
    },
    {
     "name": "stderr",
     "output_type": "stream",
     "text": [
      "100%|██████████| 354k/354k [00:01<00:00, 337kB/s]  \n"
     ]
    },
    {
     "name": "stdout",
     "output_type": "stream",
     "text": [
      "Upload successful: Fancy.mp3 (354KB)\n",
      "Starting upload for file Freaky Deaky.mp3\n"
     ]
    },
    {
     "name": "stderr",
     "output_type": "stream",
     "text": [
      "100%|██████████| 355k/355k [00:01<00:00, 348kB/s]  \n"
     ]
    },
    {
     "name": "stdout",
     "output_type": "stream",
     "text": [
      "Upload successful: Freaky Deaky.mp3 (355KB)\n",
      "Starting upload for file Game.mp3\n"
     ]
    },
    {
     "name": "stderr",
     "output_type": "stream",
     "text": [
      "100%|██████████| 354k/354k [00:01<00:00, 321kB/s]  \n"
     ]
    },
    {
     "name": "stdout",
     "output_type": "stream",
     "text": [
      "Upload successful: Game.mp3 (354KB)\n",
      "Starting upload for file Get Into It (Yuh).mp3\n"
     ]
    },
    {
     "name": "stderr",
     "output_type": "stream",
     "text": [
      "100%|██████████| 355k/355k [00:01<00:00, 328kB/s]  \n"
     ]
    },
    {
     "name": "stdout",
     "output_type": "stream",
     "text": [
      "Upload successful: Get Into It (Yuh).mp3 (355KB)\n",
      "Starting upload for file Go To Town.mp3\n"
     ]
    },
    {
     "name": "stderr",
     "output_type": "stream",
     "text": [
      "100%|██████████| 354k/354k [00:01<00:00, 350kB/s]  \n"
     ]
    },
    {
     "name": "stdout",
     "output_type": "stream",
     "text": [
      "Upload successful: Go To Town.mp3 (354KB)\n",
      "Starting upload for file I Don't Do Drugs (feat. Ariana Grande).mp3\n"
     ]
    },
    {
     "name": "stderr",
     "output_type": "stream",
     "text": [
      "100%|██████████| 354k/354k [00:01<00:00, 255kB/s]  \n"
     ]
    },
    {
     "name": "stdout",
     "output_type": "stream",
     "text": [
      "Upload successful: I Don't Do Drugs (feat. Ariana Grande).mp3 (354KB)\n",
      "Starting upload for file Imagine.mp3\n"
     ]
    },
    {
     "name": "stderr",
     "output_type": "stream",
     "text": [
      "100%|██████████| 356k/356k [00:00<00:00, 409kB/s]  \n"
     ]
    },
    {
     "name": "stdout",
     "output_type": "stream",
     "text": [
      "Upload successful: Imagine.mp3 (356KB)\n",
      "Starting upload for file Juicy.mp3\n"
     ]
    },
    {
     "name": "stderr",
     "output_type": "stream",
     "text": [
      "100%|██████████| 354k/354k [00:01<00:00, 357kB/s]  \n"
     ]
    },
    {
     "name": "stdout",
     "output_type": "stream",
     "text": [
      "Upload successful: Juicy.mp3 (354KB)\n",
      "Starting upload for file Kiss Me More (feat. SZA).mp3\n"
     ]
    },
    {
     "name": "stderr",
     "output_type": "stream",
     "text": [
      "100%|██████████| 354k/354k [00:01<00:00, 361kB/s]  \n"
     ]
    },
    {
     "name": "stdout",
     "output_type": "stream",
     "text": [
      "Upload successful: Kiss Me More (feat. SZA).mp3 (354KB)\n",
      "Starting upload for file Like That (feat. Gucci Mane).mp3\n"
     ]
    },
    {
     "name": "stderr",
     "output_type": "stream",
     "text": [
      "100%|██████████| 354k/354k [00:00<00:00, 379kB/s]  \n"
     ]
    },
    {
     "name": "stdout",
     "output_type": "stream",
     "text": [
      "Upload successful: Like That (feat. Gucci Mane).mp3 (354KB)\n",
      "Starting upload for file Love To Dream.mp3\n"
     ]
    },
    {
     "name": "stderr",
     "output_type": "stream",
     "text": [
      "100%|██████████| 356k/356k [00:01<00:00, 345kB/s]  \n"
     ]
    },
    {
     "name": "stdout",
     "output_type": "stream",
     "text": [
      "Upload successful: Love To Dream.mp3 (356KB)\n",
      "Starting upload for file MOOO!.mp3\n"
     ]
    },
    {
     "name": "stderr",
     "output_type": "stream",
     "text": [
      "100%|██████████| 354k/354k [00:01<00:00, 303kB/s]  \n"
     ]
    },
    {
     "name": "stdout",
     "output_type": "stream",
     "text": [
      "Upload successful: MOOO!.mp3 (354KB)\n",
      "Starting upload for file Morning Light.mp3\n"
     ]
    },
    {
     "name": "stderr",
     "output_type": "stream",
     "text": [
      "100%|██████████| 353k/353k [00:01<00:00, 312kB/s]  \n"
     ]
    },
    {
     "name": "stdout",
     "output_type": "stream",
     "text": [
      "Upload successful: Morning Light.mp3 (353KB)\n",
      "Starting upload for file Naked.mp3\n"
     ]
    },
    {
     "name": "stderr",
     "output_type": "stream",
     "text": [
      "100%|██████████| 354k/354k [00:01<00:00, 308kB/s]  \n"
     ]
    },
    {
     "name": "stdout",
     "output_type": "stream",
     "text": [
      "Upload successful: Naked.mp3 (354KB)\n",
      "Starting upload for file Need to Know.mp3\n"
     ]
    },
    {
     "name": "stderr",
     "output_type": "stream",
     "text": [
      "100%|██████████| 355k/355k [00:01<00:00, 329kB/s]  \n"
     ]
    },
    {
     "name": "stdout",
     "output_type": "stream",
     "text": [
      "Upload successful: Need to Know.mp3 (355KB)\n",
      "Starting upload for file Options (feat. JID).mp3\n"
     ]
    },
    {
     "name": "stderr",
     "output_type": "stream",
     "text": [
      "100%|██████████| 355k/355k [00:00<00:00, 392kB/s]  \n"
     ]
    },
    {
     "name": "stdout",
     "output_type": "stream",
     "text": [
      "Upload successful: Options (feat. JID).mp3 (355KB)\n",
      "Starting upload for file Payday (feat. Young Thug).mp3\n"
     ]
    },
    {
     "name": "stderr",
     "output_type": "stream",
     "text": [
      "100%|██████████| 356k/356k [00:01<00:00, 348kB/s]  \n"
     ]
    },
    {
     "name": "stdout",
     "output_type": "stream",
     "text": [
      "Upload successful: Payday (feat. Young Thug).mp3 (356KB)\n",
      "Starting upload for file Ride.mp3\n"
     ]
    },
    {
     "name": "stderr",
     "output_type": "stream",
     "text": [
      "100%|██████████| 356k/356k [00:01<00:00, 307kB/s]  \n"
     ]
    },
    {
     "name": "stdout",
     "output_type": "stream",
     "text": [
      "Upload successful: Ride.mp3 (356KB)\n",
      "Starting upload for file Roll With Us.mp3\n"
     ]
    },
    {
     "name": "stderr",
     "output_type": "stream",
     "text": [
      "100%|██████████| 354k/354k [00:01<00:00, 347kB/s]  \n"
     ]
    },
    {
     "name": "stdout",
     "output_type": "stream",
     "text": [
      "Upload successful: Roll With Us.mp3 (354KB)\n",
      "Starting upload for file Rules.mp3\n"
     ]
    },
    {
     "name": "stderr",
     "output_type": "stream",
     "text": [
      "100%|██████████| 355k/355k [00:01<00:00, 254kB/s]  \n"
     ]
    },
    {
     "name": "stdout",
     "output_type": "stream",
     "text": [
      "Upload successful: Rules.mp3 (355KB)\n",
      "Starting upload for file Say So.mp3\n"
     ]
    },
    {
     "name": "stderr",
     "output_type": "stream",
     "text": [
      "100%|██████████| 354k/354k [00:01<00:00, 322kB/s]  \n"
     ]
    },
    {
     "name": "stdout",
     "output_type": "stream",
     "text": [
      "Upload successful: Say So.mp3 (354KB)\n",
      "Starting upload for file Shine.mp3\n"
     ]
    },
    {
     "name": "stderr",
     "output_type": "stream",
     "text": [
      "100%|██████████| 354k/354k [00:01<00:00, 308kB/s]  \n"
     ]
    },
    {
     "name": "stdout",
     "output_type": "stream",
     "text": [
      "Upload successful: Shine.mp3 (354KB)\n",
      "Starting upload for file Streets.mp3\n"
     ]
    },
    {
     "name": "stderr",
     "output_type": "stream",
     "text": [
      "100%|██████████| 355k/355k [00:01<00:00, 361kB/s]  \n"
     ]
    },
    {
     "name": "stdout",
     "output_type": "stream",
     "text": [
      "Upload successful: Streets.mp3 (355KB)\n",
      "Starting upload for file Talk Dirty.mp3\n"
     ]
    },
    {
     "name": "stderr",
     "output_type": "stream",
     "text": [
      "100%|██████████| 355k/355k [00:00<00:00, 413kB/s]  \n"
     ]
    },
    {
     "name": "stdout",
     "output_type": "stream",
     "text": [
      "Upload successful: Talk Dirty.mp3 (355KB)\n",
      "Starting upload for file Tia Tamera (feat. Rico Nasty).mp3\n"
     ]
    },
    {
     "name": "stderr",
     "output_type": "stream",
     "text": [
      "100%|██████████| 354k/354k [00:00<00:00, 387kB/s]  \n"
     ]
    },
    {
     "name": "stdout",
     "output_type": "stream",
     "text": [
      "Upload successful: Tia Tamera (feat. Rico Nasty).mp3 (354KB)\n",
      "Starting upload for file Tonight (feat. Eve).mp3\n"
     ]
    },
    {
     "name": "stderr",
     "output_type": "stream",
     "text": [
      "100%|██████████| 355k/355k [00:01<00:00, 295kB/s]  \n"
     ]
    },
    {
     "name": "stdout",
     "output_type": "stream",
     "text": [
      "Upload successful: Tonight (feat. Eve).mp3 (355KB)\n",
      "Starting upload for file Up And Down.mp3\n"
     ]
    },
    {
     "name": "stderr",
     "output_type": "stream",
     "text": [
      "100%|██████████| 356k/356k [00:01<00:00, 348kB/s]  \n"
     ]
    },
    {
     "name": "stdout",
     "output_type": "stream",
     "text": [
      "Upload successful: Up And Down.mp3 (356KB)\n",
      "Starting upload for file Why Why (feat. Gunna).mp3\n"
     ]
    },
    {
     "name": "stderr",
     "output_type": "stream",
     "text": [
      "100%|██████████| 356k/356k [00:01<00:00, 324kB/s]  \n"
     ]
    },
    {
     "name": "stdout",
     "output_type": "stream",
     "text": [
      "Upload successful: Why Why (feat. Gunna).mp3 (356KB)\n",
      "Starting upload for file Wild Beach.mp3\n"
     ]
    },
    {
     "name": "stderr",
     "output_type": "stream",
     "text": [
      "100%|██████████| 354k/354k [00:01<00:00, 294kB/s]  \n"
     ]
    },
    {
     "name": "stdout",
     "output_type": "stream",
     "text": [
      "Upload successful: Wild Beach.mp3 (354KB)\n",
      "Starting upload for file Wine Pon You (feat. Konshens).mp3\n"
     ]
    },
    {
     "name": "stderr",
     "output_type": "stream",
     "text": [
      "100%|██████████| 354k/354k [00:01<00:00, 291kB/s]  \n"
     ]
    },
    {
     "name": "stdout",
     "output_type": "stream",
     "text": [
      "Upload successful: Wine Pon You (feat. Konshens).mp3 (354KB)\n",
      "Starting upload for file Woman.mp3\n"
     ]
    },
    {
     "name": "stderr",
     "output_type": "stream",
     "text": [
      "100%|██████████| 355k/355k [00:01<00:00, 312kB/s]  \n"
     ]
    },
    {
     "name": "stdout",
     "output_type": "stream",
     "text": [
      "Upload successful: Woman.mp3 (355KB)\n",
      "Starting upload for file Won't Bite (feat. Smino).mp3\n"
     ]
    },
    {
     "name": "stderr",
     "output_type": "stream",
     "text": [
      "100%|██████████| 354k/354k [00:01<00:00, 312kB/s]  \n"
     ]
    },
    {
     "name": "stdout",
     "output_type": "stream",
     "text": [
      "Upload successful: Won't Bite (feat. Smino).mp3 (354KB)\n",
      "Starting upload for file You Right - Extended.mp3\n"
     ]
    },
    {
     "name": "stderr",
     "output_type": "stream",
     "text": [
      "100%|██████████| 355k/355k [00:01<00:00, 362kB/s]  \n"
     ]
    },
    {
     "name": "stdout",
     "output_type": "stream",
     "text": [
      "Upload successful: You Right - Extended.mp3 (355KB)\n",
      "Starting upload for file You Right.mp3\n"
     ]
    },
    {
     "name": "stderr",
     "output_type": "stream",
     "text": [
      "100%|██████████| 355k/355k [00:01<00:00, 336kB/s]  \n"
     ]
    },
    {
     "name": "stdout",
     "output_type": "stream",
     "text": [
      "Upload successful: You Right.mp3 (355KB)\n"
     ]
    },
    {
     "data": {
      "text/plain": [
       "https://www.kaggle.com/datasets/ericjiangg/thirty-sec-mp3s"
      ]
     },
     "execution_count": 23,
     "metadata": {},
     "output_type": "execute_result"
    }
   ],
   "source": [
    "from kaggle import api\n",
    "import re\n",
    "\n",
    "metadata_json_path = Path(mp3_dir, \"dataset-metadata.json\")\n",
    "dataset_title = \"thirty_sec_mp3s\"\n",
    "get_slug = lambda title: re.sub(r'[^a-z0-9]+', '-', title.lower())\n",
    "dataset_slug = get_slug(dataset_title)\n",
    "\n",
    "dataset_metadata = '''\n",
    "{\n",
    "    \"title\": \"%s\",\n",
    "    \"id\": \"%s/%s\",\n",
    "    \"licenses\": [{\"name\": \"CC0-1.0\"}]\n",
    "}\n",
    "''' % (dataset_slug,\n",
    "       api.get_config_value(\"username\"),\n",
    "       dataset_slug)\n",
    "\n",
    "\n",
    "with open(metadata_json_path, \"w\") as f:\n",
    "    f.write(dataset_metadata)\n",
    "\n",
    "api.dataset_create_new(mp3_dir)"
   ]
  }
 ],
 "metadata": {
  "kernelspec": {
   "display_name": "Python 3 (ipykernel)",
   "language": "python",
   "name": "python3"
  },
  "language_info": {
   "codemirror_mode": {
    "name": "ipython",
    "version": 3
   },
   "file_extension": ".py",
   "mimetype": "text/x-python",
   "name": "python",
   "nbconvert_exporter": "python",
   "pygments_lexer": "ipython3",
   "version": "3.9.7"
  }
 },
 "nbformat": 4,
 "nbformat_minor": 1
}
